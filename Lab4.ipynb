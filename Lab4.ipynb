{
 "cells": [
  {
   "cell_type": "code",
   "execution_count": 16,
   "id": "d5c30526-0aab-4b45-ae6a-c1cdfbdff0f1",
   "metadata": {},
   "outputs": [],
   "source": [
    "import pandas as pd\n",
    "import matplotlib.pyplot as plt\n",
    "import numpy as np\n",
    "import seaborn as sns\n",
    "import warnings\n",
    "import statistics\n",
    "from math import sqrt\n",
    "from scipy import stats\n",
    "from sklearn.model_selection import train_test_split\n",
    "from sklearn.preprocessing import StandardScaler\n",
    "from sklearn.linear_model import LinearRegression, Lasso, Ridge\n",
    "from sklearn.model_selection import GridSearchCV, RandomizedSearchCV\n",
    "from sklearn.preprocessing import PolynomialFeatures\n",
    "\n",
    "from sklearn.neighbors import KNeighborsClassifier\n",
    "from sklearn.metrics import confusion_matrix\n",
    "from sklearn.metrics import roc_auc_score\n",
    "from sklearn.metrics import classification_report"
   ]
  },
  {
   "cell_type": "markdown",
   "id": "24267593-3a5a-4772-8841-55bb841b0613",
   "metadata": {},
   "source": [
    "## 1 задание"
   ]
  },
  {
   "cell_type": "code",
   "execution_count": 17,
   "id": "b62fcb49-091d-4878-8ab7-daa84863ec49",
   "metadata": {},
   "outputs": [
    {
     "data": {
      "text/html": [
       "<div>\n",
       "<style scoped>\n",
       "    .dataframe tbody tr th:only-of-type {\n",
       "        vertical-align: middle;\n",
       "    }\n",
       "\n",
       "    .dataframe tbody tr th {\n",
       "        vertical-align: top;\n",
       "    }\n",
       "\n",
       "    .dataframe thead th {\n",
       "        text-align: right;\n",
       "    }\n",
       "</style>\n",
       "<table border=\"1\" class=\"dataframe\">\n",
       "  <thead>\n",
       "    <tr style=\"text-align: right;\">\n",
       "      <th></th>\n",
       "      <th>weather</th>\n",
       "      <th>stroll</th>\n",
       "    </tr>\n",
       "  </thead>\n",
       "  <tbody>\n",
       "    <tr>\n",
       "      <th>0</th>\n",
       "      <td>солнечно</td>\n",
       "      <td>True</td>\n",
       "    </tr>\n",
       "    <tr>\n",
       "      <th>1</th>\n",
       "      <td>снег</td>\n",
       "      <td>False</td>\n",
       "    </tr>\n",
       "    <tr>\n",
       "      <th>2</th>\n",
       "      <td>облачно</td>\n",
       "      <td>False</td>\n",
       "    </tr>\n",
       "    <tr>\n",
       "      <th>3</th>\n",
       "      <td>дождь</td>\n",
       "      <td>False</td>\n",
       "    </tr>\n",
       "    <tr>\n",
       "      <th>4</th>\n",
       "      <td>солнечно</td>\n",
       "      <td>True</td>\n",
       "    </tr>\n",
       "    <tr>\n",
       "      <th>5</th>\n",
       "      <td>снег</td>\n",
       "      <td>False</td>\n",
       "    </tr>\n",
       "    <tr>\n",
       "      <th>6</th>\n",
       "      <td>облачно</td>\n",
       "      <td>True</td>\n",
       "    </tr>\n",
       "    <tr>\n",
       "      <th>7</th>\n",
       "      <td>снег</td>\n",
       "      <td>False</td>\n",
       "    </tr>\n",
       "    <tr>\n",
       "      <th>8</th>\n",
       "      <td>солнечно</td>\n",
       "      <td>False</td>\n",
       "    </tr>\n",
       "    <tr>\n",
       "      <th>9</th>\n",
       "      <td>облачно</td>\n",
       "      <td>True</td>\n",
       "    </tr>\n",
       "    <tr>\n",
       "      <th>10</th>\n",
       "      <td>снег</td>\n",
       "      <td>True</td>\n",
       "    </tr>\n",
       "    <tr>\n",
       "      <th>11</th>\n",
       "      <td>солнечно</td>\n",
       "      <td>True</td>\n",
       "    </tr>\n",
       "    <tr>\n",
       "      <th>12</th>\n",
       "      <td>дождь</td>\n",
       "      <td>False</td>\n",
       "    </tr>\n",
       "    <tr>\n",
       "      <th>13</th>\n",
       "      <td>дождь</td>\n",
       "      <td>True</td>\n",
       "    </tr>\n",
       "    <tr>\n",
       "      <th>14</th>\n",
       "      <td>облачно</td>\n",
       "      <td>True</td>\n",
       "    </tr>\n",
       "  </tbody>\n",
       "</table>\n",
       "</div>"
      ],
      "text/plain": [
       "     weather  stroll\n",
       "0   солнечно    True\n",
       "1       снег   False\n",
       "2    облачно   False\n",
       "3      дождь   False\n",
       "4   солнечно    True\n",
       "5       снег   False\n",
       "6    облачно    True\n",
       "7       снег   False\n",
       "8   солнечно   False\n",
       "9    облачно    True\n",
       "10      снег    True\n",
       "11  солнечно    True\n",
       "12     дождь   False\n",
       "13     дождь    True\n",
       "14   облачно    True"
      ]
     },
     "execution_count": 17,
     "metadata": {},
     "output_type": "execute_result"
    }
   ],
   "source": [
    "dat = [\n",
    "        ('солнечно', True),\n",
    "        ('снег', False),\n",
    "        ('облачно', False),\n",
    "        ('дождь', False),\n",
    "        ('солнечно', True),\n",
    "        ('снег', False),\n",
    "        ('облачно', True),\n",
    "        ('снег', False),\n",
    "        ('солнечно', False),\n",
    "        ('облачно', True),\n",
    "        ('снег', True),\n",
    "        ('солнечно', True),\n",
    "        ('дождь', False),\n",
    "        ('дождь', True),\n",
    "        ('облачно', True),\n",
    "]\n",
    "df_ = pd.DataFrame(dat, columns=['weather', 'stroll'])\n",
    "df_"
   ]
  },
  {
   "cell_type": "markdown",
   "id": "36384b23-2427-48f8-93d7-8e6e8c78a225",
   "metadata": {},
   "source": [
    "$P(True|rain) =\\frac{P(true) \\cdot P(rain | True)}{P(rain)}$"
   ]
  },
  {
   "cell_type": "code",
   "execution_count": 18,
   "id": "08ff2ffa-720b-4316-a0bd-3f104ba5ba26",
   "metadata": {},
   "outputs": [],
   "source": [
    "p_rain_if_stroll = len(df_.loc[(df_['weather'] == 'дождь') & (df_['stroll'] == True)]) / len(df_.loc[df_['stroll'] == True])"
   ]
  },
  {
   "cell_type": "code",
   "execution_count": 19,
   "id": "44fdfef5-eb45-4496-a7bd-f6afa894fe0a",
   "metadata": {},
   "outputs": [
    {
     "data": {
      "text/plain": [
       "0.3333333333333333"
      ]
     },
     "execution_count": 19,
     "metadata": {},
     "output_type": "execute_result"
    }
   ],
   "source": [
    "p_stroll_if_rain = ((len(df_.loc[df_['stroll'] == True]) / len(df_))*p_rain_if_stroll)/(len(df_.loc[df_['weather'] == 'дождь']) / len(df_))\n",
    "p_stroll_if_rain"
   ]
  },
  {
   "cell_type": "markdown",
   "id": "86b45784-1357-4c3d-abd1-b4b3941363fe",
   "metadata": {},
   "source": [
    "## 2 задание"
   ]
  },
  {
   "cell_type": "code",
   "execution_count": 20,
   "id": "1589ab28-c2f8-4569-bc98-aa6ad7a14d94",
   "metadata": {},
   "outputs": [],
   "source": [
    "df= pd.read_csv('Data4.csv')"
   ]
  },
  {
   "cell_type": "code",
   "execution_count": 21,
   "id": "e874fbcb-6425-49ec-ab39-f2b591f85d27",
   "metadata": {},
   "outputs": [
    {
     "name": "stdout",
     "output_type": "stream",
     "text": [
      "<class 'pandas.core.frame.DataFrame'>\n",
      "RangeIndex: 90836 entries, 0 to 90835\n",
      "Data columns (total 8 columns):\n",
      " #   Column              Non-Null Count  Dtype  \n",
      "---  ------              --------------  -----  \n",
      " 0   id                  90266 non-null  float64\n",
      " 1   name                90790 non-null  object \n",
      " 2   est_diameter_min    90836 non-null  float64\n",
      " 3   est_diameter_max    90379 non-null  float64\n",
      " 4   relative_velocity   90279 non-null  float64\n",
      " 5   miss_distance       90836 non-null  float64\n",
      " 6   absolute_magnitude  90152 non-null  float64\n",
      " 7   hazardous           90836 non-null  bool   \n",
      "dtypes: bool(1), float64(6), object(1)\n",
      "memory usage: 4.9+ MB\n"
     ]
    }
   ],
   "source": [
    "df.info()"
   ]
  },
  {
   "cell_type": "code",
   "execution_count": 22,
   "id": "259f6ae7-f0a6-4ab2-a7cd-5e4f2e45ee96",
   "metadata": {},
   "outputs": [
    {
     "data": {
      "text/html": [
       "<div>\n",
       "<style scoped>\n",
       "    .dataframe tbody tr th:only-of-type {\n",
       "        vertical-align: middle;\n",
       "    }\n",
       "\n",
       "    .dataframe tbody tr th {\n",
       "        vertical-align: top;\n",
       "    }\n",
       "\n",
       "    .dataframe thead th {\n",
       "        text-align: right;\n",
       "    }\n",
       "</style>\n",
       "<table border=\"1\" class=\"dataframe\">\n",
       "  <thead>\n",
       "    <tr style=\"text-align: right;\">\n",
       "      <th></th>\n",
       "      <th>id</th>\n",
       "      <th>name</th>\n",
       "      <th>est_diameter_min</th>\n",
       "      <th>est_diameter_max</th>\n",
       "      <th>relative_velocity</th>\n",
       "      <th>miss_distance</th>\n",
       "      <th>absolute_magnitude</th>\n",
       "      <th>hazardous</th>\n",
       "    </tr>\n",
       "  </thead>\n",
       "  <tbody>\n",
       "    <tr>\n",
       "      <th>0</th>\n",
       "      <td>3561024.0</td>\n",
       "      <td>(2011 GZ2)</td>\n",
       "      <td>0.016016</td>\n",
       "      <td>0.035813</td>\n",
       "      <td>56014.078517</td>\n",
       "      <td>1.024333e+06</td>\n",
       "      <td>26.1</td>\n",
       "      <td>False</td>\n",
       "    </tr>\n",
       "    <tr>\n",
       "      <th>1</th>\n",
       "      <td>54016766.0</td>\n",
       "      <td>(2020 HT6)</td>\n",
       "      <td>0.030518</td>\n",
       "      <td>0.068240</td>\n",
       "      <td>7864.348060</td>\n",
       "      <td>3.268186e+07</td>\n",
       "      <td>24.7</td>\n",
       "      <td>False</td>\n",
       "    </tr>\n",
       "    <tr>\n",
       "      <th>2</th>\n",
       "      <td>3746620.0</td>\n",
       "      <td>(2016 ED156)</td>\n",
       "      <td>0.055533</td>\n",
       "      <td>0.124177</td>\n",
       "      <td>55257.544508</td>\n",
       "      <td>6.538636e+07</td>\n",
       "      <td>23.4</td>\n",
       "      <td>False</td>\n",
       "    </tr>\n",
       "    <tr>\n",
       "      <th>3</th>\n",
       "      <td>3633054.0</td>\n",
       "      <td>(2013 FD8)</td>\n",
       "      <td>0.019256</td>\n",
       "      <td>0.043057</td>\n",
       "      <td>41531.404722</td>\n",
       "      <td>1.260796e+07</td>\n",
       "      <td>25.7</td>\n",
       "      <td>False</td>\n",
       "    </tr>\n",
       "    <tr>\n",
       "      <th>4</th>\n",
       "      <td>3742124.0</td>\n",
       "      <td>(2016 CW31)</td>\n",
       "      <td>0.139494</td>\n",
       "      <td>0.311918</td>\n",
       "      <td>67639.394481</td>\n",
       "      <td>7.130590e+07</td>\n",
       "      <td>21.4</td>\n",
       "      <td>False</td>\n",
       "    </tr>\n",
       "  </tbody>\n",
       "</table>\n",
       "</div>"
      ],
      "text/plain": [
       "           id          name  est_diameter_min  est_diameter_max  \\\n",
       "0   3561024.0    (2011 GZ2)          0.016016          0.035813   \n",
       "1  54016766.0    (2020 HT6)          0.030518          0.068240   \n",
       "2   3746620.0  (2016 ED156)          0.055533          0.124177   \n",
       "3   3633054.0    (2013 FD8)          0.019256          0.043057   \n",
       "4   3742124.0   (2016 CW31)          0.139494          0.311918   \n",
       "\n",
       "   relative_velocity  miss_distance  absolute_magnitude  hazardous  \n",
       "0       56014.078517   1.024333e+06                26.1      False  \n",
       "1        7864.348060   3.268186e+07                24.7      False  \n",
       "2       55257.544508   6.538636e+07                23.4      False  \n",
       "3       41531.404722   1.260796e+07                25.7      False  \n",
       "4       67639.394481   7.130590e+07                21.4      False  "
      ]
     },
     "execution_count": 22,
     "metadata": {},
     "output_type": "execute_result"
    }
   ],
   "source": [
    "df.head(5)"
   ]
  },
  {
   "cell_type": "code",
   "execution_count": 23,
   "id": "496b82c6-2ca5-425b-a9ad-15766efa3a03",
   "metadata": {},
   "outputs": [
    {
     "data": {
      "text/plain": [
       "id                    570\n",
       "name                   46\n",
       "est_diameter_min        0\n",
       "est_diameter_max      457\n",
       "relative_velocity     557\n",
       "miss_distance           0\n",
       "absolute_magnitude    684\n",
       "hazardous               0\n",
       "dtype: int64"
      ]
     },
     "execution_count": 23,
     "metadata": {},
     "output_type": "execute_result"
    }
   ],
   "source": [
    "df.isna().sum()"
   ]
  },
  {
   "cell_type": "code",
   "execution_count": 24,
   "id": "c22ee8b2-4ffc-49d2-af71-8197bbc4a0bc",
   "metadata": {},
   "outputs": [
    {
     "data": {
      "text/html": [
       "<div>\n",
       "<style scoped>\n",
       "    .dataframe tbody tr th:only-of-type {\n",
       "        vertical-align: middle;\n",
       "    }\n",
       "\n",
       "    .dataframe tbody tr th {\n",
       "        vertical-align: top;\n",
       "    }\n",
       "\n",
       "    .dataframe thead th {\n",
       "        text-align: right;\n",
       "    }\n",
       "</style>\n",
       "<table border=\"1\" class=\"dataframe\">\n",
       "  <thead>\n",
       "    <tr style=\"text-align: right;\">\n",
       "      <th></th>\n",
       "      <th>id</th>\n",
       "      <th>est_diameter_min</th>\n",
       "      <th>est_diameter_max</th>\n",
       "      <th>relative_velocity</th>\n",
       "      <th>miss_distance</th>\n",
       "      <th>absolute_magnitude</th>\n",
       "    </tr>\n",
       "  </thead>\n",
       "  <tbody>\n",
       "    <tr>\n",
       "      <th>count</th>\n",
       "      <td>9.026600e+04</td>\n",
       "      <td>90836.000000</td>\n",
       "      <td>90379.000000</td>\n",
       "      <td>90279.000000</td>\n",
       "      <td>9.083600e+04</td>\n",
       "      <td>90152.000000</td>\n",
       "    </tr>\n",
       "    <tr>\n",
       "      <th>mean</th>\n",
       "      <td>1.438528e+07</td>\n",
       "      <td>0.127432</td>\n",
       "      <td>0.284911</td>\n",
       "      <td>48066.003701</td>\n",
       "      <td>3.706655e+07</td>\n",
       "      <td>23.526653</td>\n",
       "    </tr>\n",
       "    <tr>\n",
       "      <th>std</th>\n",
       "      <td>2.087357e+07</td>\n",
       "      <td>0.298511</td>\n",
       "      <td>0.668148</td>\n",
       "      <td>25294.523635</td>\n",
       "      <td>2.235204e+07</td>\n",
       "      <td>2.893982</td>\n",
       "    </tr>\n",
       "    <tr>\n",
       "      <th>min</th>\n",
       "      <td>2.000433e+06</td>\n",
       "      <td>0.000609</td>\n",
       "      <td>0.001362</td>\n",
       "      <td>203.346433</td>\n",
       "      <td>6.745533e+03</td>\n",
       "      <td>9.230000</td>\n",
       "    </tr>\n",
       "    <tr>\n",
       "      <th>25%</th>\n",
       "      <td>3.448595e+06</td>\n",
       "      <td>0.019256</td>\n",
       "      <td>0.043057</td>\n",
       "      <td>28620.469765</td>\n",
       "      <td>1.721082e+07</td>\n",
       "      <td>21.340000</td>\n",
       "    </tr>\n",
       "    <tr>\n",
       "      <th>50%</th>\n",
       "      <td>3.748364e+06</td>\n",
       "      <td>0.048368</td>\n",
       "      <td>0.108153</td>\n",
       "      <td>44190.108201</td>\n",
       "      <td>3.784658e+07</td>\n",
       "      <td>23.700000</td>\n",
       "    </tr>\n",
       "    <tr>\n",
       "      <th>75%</th>\n",
       "      <td>3.884023e+06</td>\n",
       "      <td>0.143402</td>\n",
       "      <td>0.320656</td>\n",
       "      <td>62931.850541</td>\n",
       "      <td>5.654900e+07</td>\n",
       "      <td>25.700000</td>\n",
       "    </tr>\n",
       "    <tr>\n",
       "      <th>max</th>\n",
       "      <td>5.427591e+07</td>\n",
       "      <td>37.892650</td>\n",
       "      <td>84.730541</td>\n",
       "      <td>236990.128088</td>\n",
       "      <td>7.479865e+07</td>\n",
       "      <td>33.200000</td>\n",
       "    </tr>\n",
       "  </tbody>\n",
       "</table>\n",
       "</div>"
      ],
      "text/plain": [
       "                 id  est_diameter_min  est_diameter_max  relative_velocity  \\\n",
       "count  9.026600e+04      90836.000000      90379.000000       90279.000000   \n",
       "mean   1.438528e+07          0.127432          0.284911       48066.003701   \n",
       "std    2.087357e+07          0.298511          0.668148       25294.523635   \n",
       "min    2.000433e+06          0.000609          0.001362         203.346433   \n",
       "25%    3.448595e+06          0.019256          0.043057       28620.469765   \n",
       "50%    3.748364e+06          0.048368          0.108153       44190.108201   \n",
       "75%    3.884023e+06          0.143402          0.320656       62931.850541   \n",
       "max    5.427591e+07         37.892650         84.730541      236990.128088   \n",
       "\n",
       "       miss_distance  absolute_magnitude  \n",
       "count   9.083600e+04        90152.000000  \n",
       "mean    3.706655e+07           23.526653  \n",
       "std     2.235204e+07            2.893982  \n",
       "min     6.745533e+03            9.230000  \n",
       "25%     1.721082e+07           21.340000  \n",
       "50%     3.784658e+07           23.700000  \n",
       "75%     5.654900e+07           25.700000  \n",
       "max     7.479865e+07           33.200000  "
      ]
     },
     "execution_count": 24,
     "metadata": {},
     "output_type": "execute_result"
    }
   ],
   "source": [
    "df.describe()"
   ]
  },
  {
   "cell_type": "code",
   "execution_count": 25,
   "id": "c2769ae9-2ec1-4812-9a10-042dbe2c1784",
   "metadata": {},
   "outputs": [
    {
     "data": {
      "text/plain": [
       "0"
      ]
     },
     "execution_count": 25,
     "metadata": {},
     "output_type": "execute_result"
    }
   ],
   "source": [
    "df.duplicated().sum()"
   ]
  },
  {
   "cell_type": "code",
   "execution_count": 26,
   "id": "377c0798-3e81-46b3-804f-f22b298ab674",
   "metadata": {},
   "outputs": [
    {
     "data": {
      "text/plain": [
       "0        3.127934e+06\n",
       "1        5.152281e+07\n",
       "2        2.826400e+06\n",
       "3        3.361112e+06\n",
       "4        2.985534e+06\n",
       "             ...     \n",
       "90831    1.842982e+07\n",
       "90832    3.120023e+06\n",
       "90833    3.378046e+06\n",
       "90834    3.370157e+06\n",
       "90835    3.476873e+06\n",
       "Name: id, Length: 90836, dtype: float64"
      ]
     },
     "execution_count": 26,
     "metadata": {},
     "output_type": "execute_result"
    }
   ],
   "source": [
    "df['id']=df['id'].map(lambda y: np.random.uniform(((df['id'].min()).round()), ((df['id'].max()).round()) if pd.isna(y) else y))\n",
    "df['id']"
   ]
  },
  {
   "cell_type": "code",
   "execution_count": 27,
   "id": "e8180af2-ada3-4403-bdd2-d8d515a9acf0",
   "metadata": {},
   "outputs": [
    {
     "data": {
      "text/plain": [
       "0          (2011 GZ2)\n",
       "1          (2020 HT6)\n",
       "2        (2016 ED156)\n",
       "3          (2013 FD8)\n",
       "4         (2016 CW31)\n",
       "             ...     \n",
       "90831       (2021 YE)\n",
       "90832       (2018 KL)\n",
       "90833    (2016 AB166)\n",
       "90834    (2014 SQ260)\n",
       "90835      (2012 EQ3)\n",
       "Name: name, Length: 90836, dtype: object"
      ]
     },
     "execution_count": 27,
     "metadata": {},
     "output_type": "execute_result"
    }
   ],
   "source": [
    "df['name']=df['name'].fillna('unknown')\n",
    "df['name']"
   ]
  },
  {
   "cell_type": "code",
   "execution_count": 28,
   "id": "d0ddebe8-45a3-42a3-abc3-3e20d39a0ece",
   "metadata": {},
   "outputs": [
    {
     "data": {
      "text/plain": [
       "0          (2011 GZ2)\n",
       "1          (2020 HT6)\n",
       "2        (2016 ED156)\n",
       "3          (2013 FD8)\n",
       "4         (2016 CW31)\n",
       "             ...     \n",
       "90831       (2021 YE)\n",
       "90832       (2018 KL)\n",
       "90833    (2016 AB166)\n",
       "90834    (2014 SQ260)\n",
       "90835      (2012 EQ3)\n",
       "Name: name, Length: 90836, dtype: object"
      ]
     },
     "execution_count": 28,
     "metadata": {},
     "output_type": "execute_result"
    }
   ],
   "source": [
    "df.pop('name')"
   ]
  },
  {
   "cell_type": "code",
   "execution_count": 29,
   "id": "049a3614-f76b-4429-a282-66965cab24bc",
   "metadata": {},
   "outputs": [
    {
     "data": {
      "text/plain": [
       "0        0.034721\n",
       "1        0.066445\n",
       "2        0.071110\n",
       "3        0.032146\n",
       "4        0.095298\n",
       "           ...   \n",
       "90831    0.005411\n",
       "90832    0.001635\n",
       "90833    0.018323\n",
       "90834    0.003089\n",
       "90835    0.021914\n",
       "Name: est_diameter_max, Length: 90836, dtype: float64"
      ]
     },
     "execution_count": 29,
     "metadata": {},
     "output_type": "execute_result"
    }
   ],
   "source": [
    "df['est_diameter_max']=df['est_diameter_max'].map(lambda y: np.random.uniform(((df['est_diameter_max'].min()).round()), ((df['est_diameter_max'].max()).round()) if pd.isna(y) else y))\n",
    "df['est_diameter_max']"
   ]
  },
  {
   "cell_type": "code",
   "execution_count": 30,
   "id": "57ba1055-8aa8-4174-b642-fde55cd871d6",
   "metadata": {},
   "outputs": [
    {
     "data": {
      "text/plain": [
       "0        23231.908652\n",
       "1         1724.561312\n",
       "2        15558.391733\n",
       "3        13125.105675\n",
       "4         3017.312526\n",
       "             ...     \n",
       "90831     4162.731028\n",
       "90832     3051.030542\n",
       "90833    91640.146699\n",
       "90834    34368.384988\n",
       "90835    59225.846592\n",
       "Name: relative_velocity, Length: 90836, dtype: float64"
      ]
     },
     "execution_count": 30,
     "metadata": {},
     "output_type": "execute_result"
    }
   ],
   "source": [
    "df['relative_velocity']=df['relative_velocity'].map(lambda y: np.random.uniform(((df['relative_velocity'].min()).round()), ((df['relative_velocity'].max()).round()) if pd.isna(y) else y))\n",
    "df['relative_velocity']"
   ]
  },
  {
   "cell_type": "code",
   "execution_count": 31,
   "id": "300c4f79-5e59-4bd9-aa96-852172119bd2",
   "metadata": {},
   "outputs": [
    {
     "data": {
      "text/plain": [
       "0        22.974323\n",
       "1         9.061389\n",
       "2        17.614851\n",
       "3        19.566672\n",
       "4        19.007212\n",
       "           ...    \n",
       "90831    14.531121\n",
       "90832    12.036408\n",
       "90833    13.774160\n",
       "90834    11.519718\n",
       "90835    10.057717\n",
       "Name: absolute_magnitude, Length: 90836, dtype: float64"
      ]
     },
     "execution_count": 31,
     "metadata": {},
     "output_type": "execute_result"
    }
   ],
   "source": [
    "df['absolute_magnitude']=df['absolute_magnitude'].map(lambda y: np.random.uniform(((df['absolute_magnitude'].min()).round()), ((df['absolute_magnitude'].max()).round()) if pd.isna(y) else y))\n",
    "df['absolute_magnitude']"
   ]
  },
  {
   "cell_type": "code",
   "execution_count": 32,
   "id": "4117ffc3-463e-4635-a5cb-a966b31fe200",
   "metadata": {},
   "outputs": [
    {
     "data": {
      "text/plain": [
       "id                    0\n",
       "est_diameter_min      0\n",
       "est_diameter_max      0\n",
       "relative_velocity     0\n",
       "miss_distance         0\n",
       "absolute_magnitude    0\n",
       "hazardous             0\n",
       "dtype: int64"
      ]
     },
     "execution_count": 32,
     "metadata": {},
     "output_type": "execute_result"
    }
   ],
   "source": [
    "df.isna().sum()"
   ]
  },
  {
   "cell_type": "code",
   "execution_count": 33,
   "id": "19dfff68-d77c-4747-82fa-70eaa9f22163",
   "metadata": {},
   "outputs": [
    {
     "data": {
      "text/plain": [
       "0"
      ]
     },
     "execution_count": 33,
     "metadata": {},
     "output_type": "execute_result"
    }
   ],
   "source": [
    "df.duplicated().sum()"
   ]
  },
  {
   "cell_type": "code",
   "execution_count": 34,
   "id": "2971e6c9-663c-44ff-9feb-1801b5a14dd1",
   "metadata": {},
   "outputs": [
    {
     "data": {
      "image/png": "[encoded data removed]",
      "text/plain": [
       "<Figure size 640x480 with 1 Axes>"
      ]
     },
     "metadata": {},
     "output_type": "display_data"
    },
    {
     "data": {
      "image/png": "[encoded data removed]",
      "text/plain": [
       "<Figure size 640x480 with 1 Axes>"
      ]
     },
     "metadata": {},
     "output_type": "display_data"
    },
    {
     "data": {
      "image/png": "[encoded data removed]",
      "text/plain": [
       "<Figure size 640x480 with 1 Axes>"
      ]
     },
     "metadata": {},
     "output_type": "display_data"
    },
    {
     "data": {
      "image/png": "[encoded data removed]",
      "text/plain": [
       "<Figure size 640x480 with 1 Axes>"
      ]
     },
     "metadata": {},
     "output_type": "display_data"
    },
    {
     "data": {
      "image/png": "[encoded data removed]",
      "text/plain": [
       "<Figure size 640x480 with 1 Axes>"
      ]
     },
     "metadata": {},
     "output_type": "display_data"
    },
    {
     "data": {
      "image/png": "[encoded data removed]",
      "text/plain": [
       "<Figure size 640x480 with 1 Axes>"
      ]
     },
     "metadata": {},
     "output_type": "display_data"
    }
   ],
   "source": [
    "df.describe()[['id', 'est_diameter_min', 'est_diameter_max', 'relative_velocity', 'miss_distance', 'absolute_magnitude']]\n",
    "columns = ['id', 'est_diameter_min', 'est_diameter_max', 'relative_velocity', 'miss_distance', 'absolute_magnitude']\n",
    "\n",
    "for column in columns:\n",
    "    df.hist(column)"
   ]
  },
  {
   "cell_type": "code",
   "execution_count": 35,
   "id": "7fbc1650-94a0-4254-9f00-7211b116097a",
   "metadata": {},
   "outputs": [
    {
     "data": {
      "text/html": [
       "<div>\n",
       "<style scoped>\n",
       "    .dataframe tbody tr th:only-of-type {\n",
       "        vertical-align: middle;\n",
       "    }\n",
       "\n",
       "    .dataframe tbody tr th {\n",
       "        vertical-align: top;\n",
       "    }\n",
       "\n",
       "    .dataframe thead th {\n",
       "        text-align: right;\n",
       "    }\n",
       "</style>\n",
       "<table border=\"1\" class=\"dataframe\">\n",
       "  <thead>\n",
       "    <tr style=\"text-align: right;\">\n",
       "      <th></th>\n",
       "      <th>id</th>\n",
       "      <th>est_diameter_min</th>\n",
       "      <th>est_diameter_max</th>\n",
       "      <th>relative_velocity</th>\n",
       "      <th>miss_distance</th>\n",
       "      <th>absolute_magnitude</th>\n",
       "    </tr>\n",
       "  </thead>\n",
       "  <tbody>\n",
       "    <tr>\n",
       "      <th>0</th>\n",
       "      <td>3.127934e+06</td>\n",
       "      <td>0.016016</td>\n",
       "      <td>0.034721</td>\n",
       "      <td>23231.908652</td>\n",
       "      <td>1.024333e+06</td>\n",
       "      <td>22.974323</td>\n",
       "    </tr>\n",
       "    <tr>\n",
       "      <th>1</th>\n",
       "      <td>5.152281e+07</td>\n",
       "      <td>0.030518</td>\n",
       "      <td>0.066445</td>\n",
       "      <td>1724.561312</td>\n",
       "      <td>3.268186e+07</td>\n",
       "      <td>9.061389</td>\n",
       "    </tr>\n",
       "    <tr>\n",
       "      <th>2</th>\n",
       "      <td>2.826400e+06</td>\n",
       "      <td>0.055533</td>\n",
       "      <td>0.071110</td>\n",
       "      <td>15558.391733</td>\n",
       "      <td>6.538636e+07</td>\n",
       "      <td>17.614851</td>\n",
       "    </tr>\n",
       "    <tr>\n",
       "      <th>3</th>\n",
       "      <td>3.361112e+06</td>\n",
       "      <td>0.019256</td>\n",
       "      <td>0.032146</td>\n",
       "      <td>13125.105675</td>\n",
       "      <td>1.260796e+07</td>\n",
       "      <td>19.566672</td>\n",
       "    </tr>\n",
       "    <tr>\n",
       "      <th>4</th>\n",
       "      <td>2.985534e+06</td>\n",
       "      <td>0.139494</td>\n",
       "      <td>0.095298</td>\n",
       "      <td>3017.312526</td>\n",
       "      <td>7.130590e+07</td>\n",
       "      <td>19.007212</td>\n",
       "    </tr>\n",
       "    <tr>\n",
       "      <th>...</th>\n",
       "      <td>...</td>\n",
       "      <td>...</td>\n",
       "      <td>...</td>\n",
       "      <td>...</td>\n",
       "      <td>...</td>\n",
       "      <td>...</td>\n",
       "    </tr>\n",
       "    <tr>\n",
       "      <th>90831</th>\n",
       "      <td>1.842982e+07</td>\n",
       "      <td>0.017561</td>\n",
       "      <td>0.005411</td>\n",
       "      <td>4162.731028</td>\n",
       "      <td>1.635007e+06</td>\n",
       "      <td>14.531121</td>\n",
       "    </tr>\n",
       "    <tr>\n",
       "      <th>90832</th>\n",
       "      <td>3.120023e+06</td>\n",
       "      <td>0.110804</td>\n",
       "      <td>0.001635</td>\n",
       "      <td>3051.030542</td>\n",
       "      <td>3.351901e+07</td>\n",
       "      <td>12.036408</td>\n",
       "    </tr>\n",
       "    <tr>\n",
       "      <th>90833</th>\n",
       "      <td>3.378046e+06</td>\n",
       "      <td>0.035039</td>\n",
       "      <td>0.018323</td>\n",
       "      <td>91640.146699</td>\n",
       "      <td>5.471396e+07</td>\n",
       "      <td>13.774160</td>\n",
       "    </tr>\n",
       "    <tr>\n",
       "      <th>90834</th>\n",
       "      <td>3.370157e+06</td>\n",
       "      <td>0.044112</td>\n",
       "      <td>0.003089</td>\n",
       "      <td>34368.384988</td>\n",
       "      <td>2.694877e+07</td>\n",
       "      <td>11.519718</td>\n",
       "    </tr>\n",
       "    <tr>\n",
       "      <th>90835</th>\n",
       "      <td>3.476873e+06</td>\n",
       "      <td>0.084441</td>\n",
       "      <td>0.021914</td>\n",
       "      <td>59225.846592</td>\n",
       "      <td>3.631207e+07</td>\n",
       "      <td>10.057717</td>\n",
       "    </tr>\n",
       "  </tbody>\n",
       "</table>\n",
       "<p>90836 rows × 6 columns</p>\n",
       "</div>"
      ],
      "text/plain": [
       "                 id  est_diameter_min  est_diameter_max  relative_velocity  \\\n",
       "0      3.127934e+06          0.016016          0.034721       23231.908652   \n",
       "1      5.152281e+07          0.030518          0.066445        1724.561312   \n",
       "2      2.826400e+06          0.055533          0.071110       15558.391733   \n",
       "3      3.361112e+06          0.019256          0.032146       13125.105675   \n",
       "4      2.985534e+06          0.139494          0.095298        3017.312526   \n",
       "...             ...               ...               ...                ...   \n",
       "90831  1.842982e+07          0.017561          0.005411        4162.731028   \n",
       "90832  3.120023e+06          0.110804          0.001635        3051.030542   \n",
       "90833  3.378046e+06          0.035039          0.018323       91640.146699   \n",
       "90834  3.370157e+06          0.044112          0.003089       34368.384988   \n",
       "90835  3.476873e+06          0.084441          0.021914       59225.846592   \n",
       "\n",
       "       miss_distance  absolute_magnitude  \n",
       "0       1.024333e+06           22.974323  \n",
       "1       3.268186e+07            9.061389  \n",
       "2       6.538636e+07           17.614851  \n",
       "3       1.260796e+07           19.566672  \n",
       "4       7.130590e+07           19.007212  \n",
       "...              ...                 ...  \n",
       "90831   1.635007e+06           14.531121  \n",
       "90832   3.351901e+07           12.036408  \n",
       "90833   5.471396e+07           13.774160  \n",
       "90834   2.694877e+07           11.519718  \n",
       "90835   3.631207e+07           10.057717  \n",
       "\n",
       "[90836 rows x 6 columns]"
      ]
     },
     "execution_count": 35,
     "metadata": {},
     "output_type": "execute_result"
    }
   ],
   "source": [
    "outlier = df[['id', 'est_diameter_min', 'est_diameter_max', 'relative_velocity', 'miss_distance', 'absolute_magnitude']]\n",
    "outlier"
   ]
  },
  {
   "cell_type": "code",
   "execution_count": 36,
   "id": "22930677-1adb-4a96-a5e8-bf228b3883bd",
   "metadata": {},
   "outputs": [
    {
     "data": {
      "text/plain": [
       "id                    2.341399e+06\n",
       "est_diameter_min      1.925551e-02\n",
       "est_diameter_max      1.515641e-02\n",
       "relative_velocity     8.905916e+03\n",
       "miss_distance         1.721082e+07\n",
       "absolute_magnitude    1.243393e+01\n",
       "Name: 0.25, dtype: float64"
      ]
     },
     "execution_count": 36,
     "metadata": {},
     "output_type": "execute_result"
    }
   ],
   "source": [
    "Q1 = outlier.quantile(0.25)\n",
    "Q1"
   ]
  },
  {
   "cell_type": "code",
   "execution_count": 37,
   "id": "f53ed641-85f1-474a-a86a-086965a75769",
   "metadata": {},
   "outputs": [
    {
     "data": {
      "text/plain": [
       "id                    3.624087e+06\n",
       "est_diameter_min      1.434019e-01\n",
       "est_diameter_max      1.423461e-01\n",
       "relative_velocity     3.432598e+04\n",
       "miss_distance         5.654900e+07\n",
       "absolute_magnitude    1.964530e+01\n",
       "Name: 0.75, dtype: float64"
      ]
     },
     "execution_count": 37,
     "metadata": {},
     "output_type": "execute_result"
    }
   ],
   "source": [
    "Q3 = outlier.quantile(0.75)\n",
    "Q3"
   ]
  },
  {
   "cell_type": "code",
   "execution_count": 38,
   "id": "ecab3894-f82c-4edc-a104-aeeeac7ff3c9",
   "metadata": {},
   "outputs": [
    {
     "data": {
      "text/html": [
       "<div>\n",
       "<style scoped>\n",
       "    .dataframe tbody tr th:only-of-type {\n",
       "        vertical-align: middle;\n",
       "    }\n",
       "\n",
       "    .dataframe tbody tr th {\n",
       "        vertical-align: top;\n",
       "    }\n",
       "\n",
       "    .dataframe thead th {\n",
       "        text-align: right;\n",
       "    }\n",
       "</style>\n",
       "<table border=\"1\" class=\"dataframe\">\n",
       "  <thead>\n",
       "    <tr style=\"text-align: right;\">\n",
       "      <th></th>\n",
       "      <th>id</th>\n",
       "      <th>est_diameter_min</th>\n",
       "      <th>est_diameter_max</th>\n",
       "      <th>relative_velocity</th>\n",
       "      <th>miss_distance</th>\n",
       "      <th>absolute_magnitude</th>\n",
       "    </tr>\n",
       "  </thead>\n",
       "  <tbody>\n",
       "    <tr>\n",
       "      <th>0</th>\n",
       "      <td>3.127934e+06</td>\n",
       "      <td>0.016016</td>\n",
       "      <td>0.034721</td>\n",
       "      <td>23231.908652</td>\n",
       "      <td>1.024333e+06</td>\n",
       "      <td>22.974323</td>\n",
       "    </tr>\n",
       "    <tr>\n",
       "      <th>2</th>\n",
       "      <td>2.826400e+06</td>\n",
       "      <td>0.055533</td>\n",
       "      <td>0.071110</td>\n",
       "      <td>15558.391733</td>\n",
       "      <td>6.538636e+07</td>\n",
       "      <td>17.614851</td>\n",
       "    </tr>\n",
       "    <tr>\n",
       "      <th>3</th>\n",
       "      <td>3.361112e+06</td>\n",
       "      <td>0.019256</td>\n",
       "      <td>0.032146</td>\n",
       "      <td>13125.105675</td>\n",
       "      <td>1.260796e+07</td>\n",
       "      <td>19.566672</td>\n",
       "    </tr>\n",
       "    <tr>\n",
       "      <th>4</th>\n",
       "      <td>2.985534e+06</td>\n",
       "      <td>0.139494</td>\n",
       "      <td>0.095298</td>\n",
       "      <td>3017.312526</td>\n",
       "      <td>7.130590e+07</td>\n",
       "      <td>19.007212</td>\n",
       "    </tr>\n",
       "    <tr>\n",
       "      <th>5</th>\n",
       "      <td>3.214137e+06</td>\n",
       "      <td>0.046191</td>\n",
       "      <td>0.052023</td>\n",
       "      <td>15635.121445</td>\n",
       "      <td>2.847083e+07</td>\n",
       "      <td>23.443432</td>\n",
       "    </tr>\n",
       "    <tr>\n",
       "      <th>...</th>\n",
       "      <td>...</td>\n",
       "      <td>...</td>\n",
       "      <td>...</td>\n",
       "      <td>...</td>\n",
       "      <td>...</td>\n",
       "      <td>...</td>\n",
       "    </tr>\n",
       "    <tr>\n",
       "      <th>90828</th>\n",
       "      <td>3.118930e+06</td>\n",
       "      <td>0.024241</td>\n",
       "      <td>0.027220</td>\n",
       "      <td>10356.067935</td>\n",
       "      <td>1.474121e+07</td>\n",
       "      <td>11.857002</td>\n",
       "    </tr>\n",
       "    <tr>\n",
       "      <th>90830</th>\n",
       "      <td>2.240928e+06</td>\n",
       "      <td>0.008405</td>\n",
       "      <td>0.016794</td>\n",
       "      <td>7654.830308</td>\n",
       "      <td>3.821292e+06</td>\n",
       "      <td>19.428120</td>\n",
       "    </tr>\n",
       "    <tr>\n",
       "      <th>90832</th>\n",
       "      <td>3.120023e+06</td>\n",
       "      <td>0.110804</td>\n",
       "      <td>0.001635</td>\n",
       "      <td>3051.030542</td>\n",
       "      <td>3.351901e+07</td>\n",
       "      <td>12.036408</td>\n",
       "    </tr>\n",
       "    <tr>\n",
       "      <th>90834</th>\n",
       "      <td>3.370157e+06</td>\n",
       "      <td>0.044112</td>\n",
       "      <td>0.003089</td>\n",
       "      <td>34368.384988</td>\n",
       "      <td>2.694877e+07</td>\n",
       "      <td>11.519718</td>\n",
       "    </tr>\n",
       "    <tr>\n",
       "      <th>90835</th>\n",
       "      <td>3.476873e+06</td>\n",
       "      <td>0.084441</td>\n",
       "      <td>0.021914</td>\n",
       "      <td>59225.846592</td>\n",
       "      <td>3.631207e+07</td>\n",
       "      <td>10.057717</td>\n",
       "    </tr>\n",
       "  </tbody>\n",
       "</table>\n",
       "<p>58448 rows × 6 columns</p>\n",
       "</div>"
      ],
      "text/plain": [
       "                 id  est_diameter_min  est_diameter_max  relative_velocity  \\\n",
       "0      3.127934e+06          0.016016          0.034721       23231.908652   \n",
       "2      2.826400e+06          0.055533          0.071110       15558.391733   \n",
       "3      3.361112e+06          0.019256          0.032146       13125.105675   \n",
       "4      2.985534e+06          0.139494          0.095298        3017.312526   \n",
       "5      3.214137e+06          0.046191          0.052023       15635.121445   \n",
       "...             ...               ...               ...                ...   \n",
       "90828  3.118930e+06          0.024241          0.027220       10356.067935   \n",
       "90830  2.240928e+06          0.008405          0.016794        7654.830308   \n",
       "90832  3.120023e+06          0.110804          0.001635        3051.030542   \n",
       "90834  3.370157e+06          0.044112          0.003089       34368.384988   \n",
       "90835  3.476873e+06          0.084441          0.021914       59225.846592   \n",
       "\n",
       "       miss_distance  absolute_magnitude  \n",
       "0       1.024333e+06           22.974323  \n",
       "2       6.538636e+07           17.614851  \n",
       "3       1.260796e+07           19.566672  \n",
       "4       7.130590e+07           19.007212  \n",
       "5       2.847083e+07           23.443432  \n",
       "...              ...                 ...  \n",
       "90828   1.474121e+07           11.857002  \n",
       "90830   3.821292e+06           19.428120  \n",
       "90832   3.351901e+07           12.036408  \n",
       "90834   2.694877e+07           11.519718  \n",
       "90835   3.631207e+07           10.057717  \n",
       "\n",
       "[58448 rows x 6 columns]"
      ]
     },
     "execution_count": 38,
     "metadata": {},
     "output_type": "execute_result"
    }
   ],
   "source": [
    "IQR = Q3-Q1\n",
    "data_filtered = outlier[~((outlier < (Q1 - 1.5 * IQR)) |(outlier > (Q3 + 1.5 * IQR))).any(axis=1)]\n",
    "data_filtered"
   ]
  },
  {
   "cell_type": "code",
   "execution_count": 39,
   "id": "d4a93c74-e993-4e8f-bdc8-043c201eef12",
   "metadata": {},
   "outputs": [
    {
     "data": {
      "text/html": [
       "<div>\n",
       "<style scoped>\n",
       "    .dataframe tbody tr th:only-of-type {\n",
       "        vertical-align: middle;\n",
       "    }\n",
       "\n",
       "    .dataframe tbody tr th {\n",
       "        vertical-align: top;\n",
       "    }\n",
       "\n",
       "    .dataframe thead th {\n",
       "        text-align: right;\n",
       "    }\n",
       "</style>\n",
       "<table border=\"1\" class=\"dataframe\">\n",
       "  <thead>\n",
       "    <tr style=\"text-align: right;\">\n",
       "      <th></th>\n",
       "      <th>id</th>\n",
       "      <th>est_diameter_min</th>\n",
       "      <th>est_diameter_max</th>\n",
       "      <th>relative_velocity</th>\n",
       "      <th>miss_distance</th>\n",
       "      <th>absolute_magnitude</th>\n",
       "      <th>hazardous</th>\n",
       "    </tr>\n",
       "  </thead>\n",
       "  <tbody>\n",
       "    <tr>\n",
       "      <th>0</th>\n",
       "      <td>3.127934e+06</td>\n",
       "      <td>0.016016</td>\n",
       "      <td>0.034721</td>\n",
       "      <td>23231.908652</td>\n",
       "      <td>1.024333e+06</td>\n",
       "      <td>22.974323</td>\n",
       "      <td>False</td>\n",
       "    </tr>\n",
       "    <tr>\n",
       "      <th>2</th>\n",
       "      <td>2.826400e+06</td>\n",
       "      <td>0.055533</td>\n",
       "      <td>0.071110</td>\n",
       "      <td>15558.391733</td>\n",
       "      <td>6.538636e+07</td>\n",
       "      <td>17.614851</td>\n",
       "      <td>False</td>\n",
       "    </tr>\n",
       "    <tr>\n",
       "      <th>3</th>\n",
       "      <td>3.361112e+06</td>\n",
       "      <td>0.019256</td>\n",
       "      <td>0.032146</td>\n",
       "      <td>13125.105675</td>\n",
       "      <td>1.260796e+07</td>\n",
       "      <td>19.566672</td>\n",
       "      <td>False</td>\n",
       "    </tr>\n",
       "    <tr>\n",
       "      <th>4</th>\n",
       "      <td>2.985534e+06</td>\n",
       "      <td>0.139494</td>\n",
       "      <td>0.095298</td>\n",
       "      <td>3017.312526</td>\n",
       "      <td>7.130590e+07</td>\n",
       "      <td>19.007212</td>\n",
       "      <td>False</td>\n",
       "    </tr>\n",
       "    <tr>\n",
       "      <th>5</th>\n",
       "      <td>3.214137e+06</td>\n",
       "      <td>0.046191</td>\n",
       "      <td>0.052023</td>\n",
       "      <td>15635.121445</td>\n",
       "      <td>2.847083e+07</td>\n",
       "      <td>23.443432</td>\n",
       "      <td>False</td>\n",
       "    </tr>\n",
       "  </tbody>\n",
       "</table>\n",
       "</div>"
      ],
      "text/plain": [
       "             id  est_diameter_min  est_diameter_max  relative_velocity  \\\n",
       "0  3.127934e+06          0.016016          0.034721       23231.908652   \n",
       "2  2.826400e+06          0.055533          0.071110       15558.391733   \n",
       "3  3.361112e+06          0.019256          0.032146       13125.105675   \n",
       "4  2.985534e+06          0.139494          0.095298        3017.312526   \n",
       "5  3.214137e+06          0.046191          0.052023       15635.121445   \n",
       "\n",
       "   miss_distance  absolute_magnitude  hazardous  \n",
       "0   1.024333e+06           22.974323      False  \n",
       "2   6.538636e+07           17.614851      False  \n",
       "3   1.260796e+07           19.566672      False  \n",
       "4   7.130590e+07           19.007212      False  \n",
       "5   2.847083e+07           23.443432      False  "
      ]
     },
     "execution_count": 39,
     "metadata": {},
     "output_type": "execute_result"
    }
   ],
   "source": [
    "index_list = list(data_filtered.index.values)\n",
    "data_filtered = df[df.index.isin(index_list)]\n",
    "data_filtered.head()"
   ]
  },
  {
   "cell_type": "code",
   "execution_count": 40,
   "id": "00b86a1f-b84d-4f18-b00e-4d35f0ab265a",
   "metadata": {},
   "outputs": [
    {
     "data": {
      "image/png": "[encoded data removed]",
      "text/plain": [
       "<Figure size 640x480 with 1 Axes>"
      ]
     },
     "metadata": {},
     "output_type": "display_data"
    },
    {
     "data": {
      "image/png": "[encoded data removed]",
      "text/plain": [
       "<Figure size 640x480 with 1 Axes>"
      ]
     },
     "metadata": {},
     "output_type": "display_data"
    },
    {
     "data": {
      "image/png": "[encoded data removed]",
      "text/plain": [
       "<Figure size 640x480 with 1 Axes>"
      ]
     },
     "metadata": {},
     "output_type": "display_data"
    },
    {
     "data": {
      "image/png": "[encoded data removed]",
      "text/plain": [
       "<Figure size 640x480 with 1 Axes>"
      ]
     },
     "metadata": {},
     "output_type": "display_data"
    },
    {
     "data": {
      "image/png": "[encoded data removed]",
      "text/plain": [
       "<Figure size 640x480 with 1 Axes>"
      ]
     },
     "metadata": {},
     "output_type": "display_data"
    },
    {
     "data": {
      "image/png": "[encoded data removed]",
      "text/plain": [
       "<Figure size 640x480 with 1 Axes>"
      ]
     },
     "metadata": {},
     "output_type": "display_data"
    }
   ],
   "source": [
    "filtered_outlier = data_filtered[['id', 'est_diameter_min', 'est_diameter_max', 'relative_velocity', 'miss_distance', 'absolute_magnitude']]\n",
    "\n",
    "for col in filtered_outlier:\n",
    "    data_filtered.hist(col, bins=100)"
   ]
  },
  {
   "cell_type": "code",
   "execution_count": 41,
   "id": "0627a872-a529-4a82-b771-56009858a92b",
   "metadata": {},
   "outputs": [
    {
     "name": "stdout",
     "output_type": "stream",
     "text": [
      "<class 'pandas.core.frame.DataFrame'>\n",
      "RangeIndex: 90836 entries, 0 to 90835\n",
      "Data columns (total 7 columns):\n",
      " #   Column              Non-Null Count  Dtype  \n",
      "---  ------              --------------  -----  \n",
      " 0   id                  90836 non-null  float64\n",
      " 1   est_diameter_min    90836 non-null  float64\n",
      " 2   est_diameter_max    90836 non-null  float64\n",
      " 3   relative_velocity   90836 non-null  float64\n",
      " 4   miss_distance       90836 non-null  float64\n",
      " 5   absolute_magnitude  90836 non-null  float64\n",
      " 6   hazardous           90836 non-null  bool   \n",
      "dtypes: bool(1), float64(6)\n",
      "memory usage: 4.2 MB\n"
     ]
    }
   ],
   "source": [
    "df.info()"
   ]
  },
  {
   "cell_type": "code",
   "execution_count": 42,
   "id": "0dc44a58-34cd-4c67-82cc-5cfb83da1002",
   "metadata": {},
   "outputs": [
    {
     "name": "stderr",
     "output_type": "stream",
     "text": [
      "C:\\Users\\Полина\\AppData\\Local\\Temp\\ipykernel_15508\\4058979185.py:1: FutureWarning: Setting an item of incompatible dtype is deprecated and will raise in a future error of pandas. Value '1' has dtype incompatible with bool, please explicitly cast to a compatible dtype first.\n",
      "  data_filtered.loc[(data_filtered['hazardous'] == \"True\"), 'hazardous'] = 1\n",
      "C:\\Users\\Полина\\AppData\\Local\\Temp\\ipykernel_15508\\4058979185.py:3: SettingWithCopyWarning: \n",
      "A value is trying to be set on a copy of a slice from a DataFrame.\n",
      "Try using .loc[row_indexer,col_indexer] = value instead\n",
      "\n",
      "See the caveats in the documentation: https://pandas.pydata.org/pandas-docs/stable/user_guide/indexing.html#returning-a-view-versus-a-copy\n",
      "  data_filtered['hazardous'] = data_filtered['hazardous'].astype(float)\n"
     ]
    }
   ],
   "source": [
    "data_filtered.loc[(data_filtered['hazardous'] == \"True\"), 'hazardous'] = 1\n",
    "data_filtered.loc[(data_filtered['hazardous'] == \"False\"), 'hazardous'] = 0\n",
    "data_filtered['hazardous'] = data_filtered['hazardous'].astype(float)"
   ]
  },
  {
   "cell_type": "code",
   "execution_count": 43,
   "id": "20542777-9f23-4b81-a83b-84b1b37a181b",
   "metadata": {},
   "outputs": [
    {
     "name": "stderr",
     "output_type": "stream",
     "text": [
      "D:\\environment\\venv\\lib\\site-packages\\seaborn\\_oldcore.py:1498: FutureWarning: is_categorical_dtype is deprecated and will be removed in a future version. Use isinstance(dtype, CategoricalDtype) instead\n",
      "  if pd.api.types.is_categorical_dtype(vector):\n",
      "D:\\environment\\venv\\lib\\site-packages\\seaborn\\_oldcore.py:1119: FutureWarning: use_inf_as_na option is deprecated and will be removed in a future version. Convert inf values to NaN before operating instead.\n",
      "  with pd.option_context('mode.use_inf_as_na', True):\n"
     ]
    },
    {
     "data": {
      "image/png": "[encoded data removed]",
      "text/plain": [
       "<Figure size 500x500 with 1 Axes>"
      ]
     },
     "metadata": {},
     "output_type": "display_data"
    }
   ],
   "source": [
    "sns.displot(data_filtered[\"hazardous\"],bins=20,kde=True);"
   ]
  },
  {
   "cell_type": "code",
   "execution_count": 44,
   "id": "5443869d-4ad3-4539-a1ca-61e4fdf6e6e9",
   "metadata": {},
   "outputs": [],
   "source": [
    "scaler = StandardScaler()\n",
    "data_scaler = scaler.fit_transform(data_filtered.drop(['hazardous'], axis=1))"
   ]
  },
  {
   "cell_type": "code",
   "execution_count": 45,
   "id": "441ded67-60c7-4498-a5b4-f1d238b55974",
   "metadata": {},
   "outputs": [
    {
     "data": {
      "text/plain": [
       "0        0.0\n",
       "2        0.0\n",
       "3        0.0\n",
       "4        0.0\n",
       "5        0.0\n",
       "        ... \n",
       "90828    0.0\n",
       "90830    0.0\n",
       "90832    0.0\n",
       "90834    0.0\n",
       "90835    0.0\n",
       "Name: hazardous, Length: 58448, dtype: float64"
      ]
     },
     "execution_count": 45,
     "metadata": {},
     "output_type": "execute_result"
    }
   ],
   "source": [
    "Y = data_filtered[\"hazardous\"]\n",
    "X = data_scaler\n",
    "Y"
   ]
  },
  {
   "cell_type": "code",
   "execution_count": 46,
   "id": "8feb06d2-0158-474f-adcb-bc61450cc9db",
   "metadata": {},
   "outputs": [
    {
     "data": {
      "text/plain": [
       "array([[ 0.59780784, -0.78407606, -0.44516378,  0.11108932, -1.54746198,\n",
       "         1.41393973],\n",
       "       [ 0.03749659, -0.20968399,  0.03345117, -0.35928573,  1.33848556,\n",
       "         0.24399479],\n",
       "       [ 1.03109877, -0.73698983, -0.47903481, -0.50844251, -1.02806048,\n",
       "         0.67006723],\n",
       "       ...,\n",
       "       [ 0.58310707,  0.59367929, -0.88034777, -1.12596816, -0.0904239 ,\n",
       "        -0.97375009],\n",
       "       [ 1.04790775, -0.37569966, -0.86121764,  0.79373857, -0.38502859,\n",
       "        -1.08654095],\n",
       "       [ 1.24620778,  0.21049546, -0.61362045,  2.3174636 ,  0.03481489,\n",
       "        -1.4056881 ]])"
      ]
     },
     "execution_count": 46,
     "metadata": {},
     "output_type": "execute_result"
    }
   ],
   "source": [
    "X"
   ]
  },
  {
   "cell_type": "code",
   "execution_count": 47,
   "id": "c6eaf8ce-49db-42b7-8266-dc595e54fbc9",
   "metadata": {},
   "outputs": [
    {
     "name": "stdout",
     "output_type": "stream",
     "text": [
      "Requirement already satisfied: imbalanced-learn in d:\\environment\\venv\\lib\\site-packages (0.11.0)\n",
      "Requirement already satisfied: joblib>=1.1.1 in d:\\environment\\venv\\lib\\site-packages (from imbalanced-learn) (1.3.2)\n",
      "Requirement already satisfied: threadpoolctl>=2.0.0 in d:\\environment\\venv\\lib\\site-packages (from imbalanced-learn) (3.2.0)\n",
      "Requirement already satisfied: numpy>=1.17.3 in d:\\environment\\venv\\lib\\site-packages (from imbalanced-learn) (1.24.3)\n",
      "Requirement already satisfied: scipy>=1.5.0 in d:\\environment\\venv\\lib\\site-packages (from imbalanced-learn) (1.11.2)\n",
      "Requirement already satisfied: scikit-learn>=1.0.2 in d:\\environment\\venv\\lib\\site-packages (from imbalanced-learn) (1.3.0)\n",
      "Note: you may need to restart the kernel to use updated packages.\n"
     ]
    },
    {
     "name": "stderr",
     "output_type": "stream",
     "text": [
      "\n",
      "[notice] A new release of pip is available: 23.0.1 -> 23.3.1\n",
      "[notice] To update, run: python.exe -m pip install --upgrade pip\n"
     ]
    }
   ],
   "source": [
    "pip install imbalanced-learn"
   ]
  },
  {
   "cell_type": "code",
   "execution_count": 48,
   "id": "d6324862-c1c1-438f-8fd0-c4dd78e726b3",
   "metadata": {},
   "outputs": [],
   "source": [
    "from imblearn.over_sampling import SMOTE\n",
    "sm = SMOTE(random_state=42, k_neighbors=5)\n",
    "X_res, y_res = sm.fit_resample(X, Y)"
   ]
  },
  {
   "cell_type": "code",
   "execution_count": 49,
   "id": "47a0baff-122d-4eb6-8907-0153ec105715",
   "metadata": {},
   "outputs": [
    {
     "data": {
      "text/plain": [
       "((72006, 6), (72006,), (35466, 6), (35466,))"
      ]
     },
     "execution_count": 49,
     "metadata": {},
     "output_type": "execute_result"
    }
   ],
   "source": [
    "X_train, X_test, Y_train, Y_test = train_test_split(X_res, y_res, test_size=0.33, random_state=42)\n",
    "X_train.shape, Y_train.shape, X_test.shape, Y_test.shape"
   ]
  },
  {
   "cell_type": "code",
   "execution_count": 50,
   "id": "fdf4cb0c-1a17-4b92-b949-c9d865480d29",
   "metadata": {},
   "outputs": [
    {
     "data": {
      "text/html": [
       "<style>#sk-container-id-1 {color: black;}#sk-container-id-1 pre{padding: 0;}#sk-container-id-1 div.sk-toggleable {background-color: white;}#sk-container-id-1 label.sk-toggleable__label {cursor: pointer;display: block;width: 100%;margin-bottom: 0;padding: 0.3em;box-sizing: border-box;text-align: center;}#sk-container-id-1 label.sk-toggleable__label-arrow:before {content: \"▸\";float: left;margin-right: 0.25em;color: #696969;}#sk-container-id-1 label.sk-toggleable__label-arrow:hover:before {color: black;}#sk-container-id-1 div.sk-estimator:hover label.sk-toggleable__label-arrow:before {color: black;}#sk-container-id-1 div.sk-toggleable__content {max-height: 0;max-width: 0;overflow: hidden;text-align: left;background-color: #f0f8ff;}#sk-container-id-1 div.sk-toggleable__content pre {margin: 0.2em;color: black;border-radius: 0.25em;background-color: #f0f8ff;}#sk-container-id-1 input.sk-toggleable__control:checked~div.sk-toggleable__content {max-height: 200px;max-width: 100%;overflow: auto;}#sk-container-id-1 input.sk-toggleable__control:checked~label.sk-toggleable__label-arrow:before {content: \"▾\";}#sk-container-id-1 div.sk-estimator input.sk-toggleable__control:checked~label.sk-toggleable__label {background-color: #d4ebff;}#sk-container-id-1 div.sk-label input.sk-toggleable__control:checked~label.sk-toggleable__label {background-color: #d4ebff;}#sk-container-id-1 input.sk-hidden--visually {border: 0;clip: rect(1px 1px 1px 1px);clip: rect(1px, 1px, 1px, 1px);height: 1px;margin: -1px;overflow: hidden;padding: 0;position: absolute;width: 1px;}#sk-container-id-1 div.sk-estimator {font-family: monospace;background-color: #f0f8ff;border: 1px dotted black;border-radius: 0.25em;box-sizing: border-box;margin-bottom: 0.5em;}#sk-container-id-1 div.sk-estimator:hover {background-color: #d4ebff;}#sk-container-id-1 div.sk-parallel-item::after {content: \"\";width: 100%;border-bottom: 1px solid gray;flex-grow: 1;}#sk-container-id-1 div.sk-label:hover label.sk-toggleable__label {background-color: #d4ebff;}#sk-container-id-1 div.sk-serial::before {content: \"\";position: absolute;border-left: 1px solid gray;box-sizing: border-box;top: 0;bottom: 0;left: 50%;z-index: 0;}#sk-container-id-1 div.sk-serial {display: flex;flex-direction: column;align-items: center;background-color: white;padding-right: 0.2em;padding-left: 0.2em;position: relative;}#sk-container-id-1 div.sk-item {position: relative;z-index: 1;}#sk-container-id-1 div.sk-parallel {display: flex;align-items: stretch;justify-content: center;background-color: white;position: relative;}#sk-container-id-1 div.sk-item::before, #sk-container-id-1 div.sk-parallel-item::before {content: \"\";position: absolute;border-left: 1px solid gray;box-sizing: border-box;top: 0;bottom: 0;left: 50%;z-index: -1;}#sk-container-id-1 div.sk-parallel-item {display: flex;flex-direction: column;z-index: 1;position: relative;background-color: white;}#sk-container-id-1 div.sk-parallel-item:first-child::after {align-self: flex-end;width: 50%;}#sk-container-id-1 div.sk-parallel-item:last-child::after {align-self: flex-start;width: 50%;}#sk-container-id-1 div.sk-parallel-item:only-child::after {width: 0;}#sk-container-id-1 div.sk-dashed-wrapped {border: 1px dashed gray;margin: 0 0.4em 0.5em 0.4em;box-sizing: border-box;padding-bottom: 0.4em;background-color: white;}#sk-container-id-1 div.sk-label label {font-family: monospace;font-weight: bold;display: inline-block;line-height: 1.2em;}#sk-container-id-1 div.sk-label-container {text-align: center;}#sk-container-id-1 div.sk-container {/* jupyter's `normalize.less` sets `[hidden] { display: none; }` but bootstrap.min.css set `[hidden] { display: none !important; }` so we also need the `!important` here to be able to override the default hidden behavior on the sphinx rendered scikit-learn.org. See: https://github.com/scikit-learn/scikit-learn/issues/21755 */display: inline-block !important;position: relative;}#sk-container-id-1 div.sk-text-repr-fallback {display: none;}</style><div id=\"sk-container-id-1\" class=\"sk-top-container\"><div class=\"sk-text-repr-fallback\"><pre>KNeighborsClassifier(n_neighbors=10)</pre><b>In a Jupyter environment, please rerun this cell to show the HTML representation or trust the notebook. <br />On GitHub, the HTML representation is unable to render, please try loading this page with nbviewer.org.</b></div><div class=\"sk-container\" hidden><div class=\"sk-item\"><div class=\"sk-estimator sk-toggleable\"><input class=\"sk-toggleable__control sk-hidden--visually\" id=\"sk-estimator-id-1\" type=\"checkbox\" checked><label for=\"sk-estimator-id-1\" class=\"sk-toggleable__label sk-toggleable__label-arrow\">KNeighborsClassifier</label><div class=\"sk-toggleable__content\"><pre>KNeighborsClassifier(n_neighbors=10)</pre></div></div></div></div></div>"
      ],
      "text/plain": [
       "KNeighborsClassifier(n_neighbors=10)"
      ]
     },
     "execution_count": 50,
     "metadata": {},
     "output_type": "execute_result"
    }
   ],
   "source": [
    "knn = KNeighborsClassifier(n_neighbors=10, metric='minkowski', p=2) \n",
    "knn.fit(X_train, Y_train)"
   ]
  },
  {
   "cell_type": "code",
   "execution_count": 51,
   "id": "04d07d0b-d6aa-46f9-b81a-eeb7fc14ce71",
   "metadata": {},
   "outputs": [
    {
     "data": {
      "text/plain": [
       "array([1., 0., 1., ..., 1., 1., 0.])"
      ]
     },
     "execution_count": 51,
     "metadata": {},
     "output_type": "execute_result"
    }
   ],
   "source": [
    "y_bin_knn_pred = knn.predict(X_test)\n",
    "y_bin_knn_pred"
   ]
  },
  {
   "cell_type": "code",
   "execution_count": 52,
   "id": "754fedba-9542-4f87-82dd-95ef919a792c",
   "metadata": {},
   "outputs": [
    {
     "data": {
      "text/plain": [
       "array([[15003,  2892],\n",
       "       [   58, 17513]], dtype=int64)"
      ]
     },
     "execution_count": 52,
     "metadata": {},
     "output_type": "execute_result"
    }
   ],
   "source": [
    "confusion_matrix(Y_test, y_bin_knn_pred)"
   ]
  },
  {
   "cell_type": "code",
   "execution_count": 53,
   "id": "60ef3de8-e4f4-4979-8e8a-62d67ca7d3f4",
   "metadata": {},
   "outputs": [
    {
     "name": "stdout",
     "output_type": "stream",
     "text": [
      "              precision    recall  f1-score   support\n",
      "\n",
      "         0.0       1.00      0.84      0.91     17895\n",
      "         1.0       0.86      1.00      0.92     17571\n",
      "\n",
      "    accuracy                           0.92     35466\n",
      "   macro avg       0.93      0.92      0.92     35466\n",
      "weighted avg       0.93      0.92      0.92     35466\n",
      "\n"
     ]
    }
   ],
   "source": [
    "from sklearn.metrics import classification_report\n",
    "print(classification_report(Y_test, y_bin_knn_pred))"
   ]
  },
  {
   "cell_type": "code",
   "execution_count": 54,
   "id": "65e57767-3f0f-416f-bc3a-8956215acc0e",
   "metadata": {},
   "outputs": [
    {
     "data": {
      "text/plain": [
       "Counter({0.0: 17895, 1.0: 17571})"
      ]
     },
     "execution_count": 54,
     "metadata": {},
     "output_type": "execute_result"
    }
   ],
   "source": [
    "from collections import Counter\n",
    "Counter(Y_test)"
   ]
  },
  {
   "cell_type": "code",
   "execution_count": 55,
   "id": "cb321e88-682e-4027-b46d-f348514b1dbb",
   "metadata": {},
   "outputs": [],
   "source": [
    "def accuracy_score(Y_test, y_bin_knn_pred):\n",
    "    arr=confusion_matrix(Y_test, y_bin_knn_pred)\n",
    "    TP=arr[0,0]\n",
    "    FP=arr[0,1]\n",
    "    FN=arr[1,0]\n",
    "    TN=arr[1,1]\n",
    "    return((TP+TN)/(TP+TN+FP+FN))"
   ]
  },
  {
   "cell_type": "code",
   "execution_count": 56,
   "id": "001ae2c1-15b4-4b2e-8fa8-f43db45de900",
   "metadata": {},
   "outputs": [],
   "source": [
    "def precision_score(Y_test, y_bin_knn_pred):\n",
    "    arr=confusion_matrix(Y_test, y_bin_knn_pred)\n",
    "    TP=arr[0,0]\n",
    "    FP=arr[0,1]\n",
    "    return(TP/(TP+FP))"
   ]
  },
  {
   "cell_type": "code",
   "execution_count": 57,
   "id": "96aa5690-d788-4822-a7d7-e36e049db485",
   "metadata": {},
   "outputs": [],
   "source": [
    "def recall_score(Y_test, y_bin_knn_pred):\n",
    "    arr=confusion_matrix(Y_test, y_bin_knn_pred)\n",
    "    TP=arr[0,0]\n",
    "    FN=arr[1,0]\n",
    "    return(TP/(TP+FN))"
   ]
  },
  {
   "cell_type": "code",
   "execution_count": 58,
   "id": "b4e59ce1-9ef6-47da-bd66-f8328d8e3ac9",
   "metadata": {},
   "outputs": [],
   "source": [
    "def f1_score(Y_test, y_bin_knn_pred):\n",
    "    multy=precision_score(Y_test, y_bin_knn_pred)*recall_score(Y_test, y_bin_knn_pred)\n",
    "    sum=precision_score(Y_test, y_bin_knn_pred)+recall_score(Y_test, y_bin_knn_pred)\n",
    "    return( 2*(multy/sum) )"
   ]
  },
  {
   "cell_type": "code",
   "execution_count": 59,
   "id": "1d35ebda-aeda-46d7-87a5-691d5bd190b6",
   "metadata": {},
   "outputs": [
    {
     "data": {
      "text/plain": [
       "0.9168217447696385"
      ]
     },
     "execution_count": 59,
     "metadata": {},
     "output_type": "execute_result"
    }
   ],
   "source": [
    "accuracy_score(Y_test, y_bin_knn_pred)"
   ]
  },
  {
   "cell_type": "code",
   "execution_count": 60,
   "id": "a2df74f0-8057-4e2b-a82d-ad0fce0819a9",
   "metadata": {},
   "outputs": [
    {
     "data": {
      "image/png": "[encoded data removed]",
      "text/plain": [
       "<Figure size 600x600 with 1 Axes>"
      ]
     },
     "metadata": {},
     "output_type": "display_data"
    }
   ],
   "source": [
    "from sklearn.metrics import roc_curve, roc_auc_score\n",
    "import matplotlib\n",
    "%matplotlib inline\n",
    "\n",
    "y_scores = knn.predict_proba(X_test)\n",
    "# Вычислить ROC кривую\n",
    "fpr, tpr, thresholds = roc_curve(Y_test, y_scores[:,1])\n",
    "\n",
    "# Построить ROC кривую\n",
    "fig = plt.figure(figsize=(6, 6))\n",
    "# Постройте диагональную линию 50%\n",
    "plt.plot([0, 1], [0, 1], 'k--')\n",
    "# Построить FPR and TPR, которые достигаются нашей моделью\n",
    "plt.plot(fpr, tpr)\n",
    "plt.xlabel('False Positive Rate')\n",
    "plt.ylabel('True Positive Rate')\n",
    "plt.title('ROC Curve')\n",
    "plt.show()"
   ]
  },
  {
   "cell_type": "code",
   "execution_count": 61,
   "id": "dbe20ab0-3887-4fa2-912e-b74695023797",
   "metadata": {},
   "outputs": [
    {
     "name": "stdout",
     "output_type": "stream",
     "text": [
      "0.971410221848661\n"
     ]
    }
   ],
   "source": [
    "auc = roc_auc_score(Y_test,y_scores[:,1])\n",
    "print(auc)"
   ]
  },
  {
   "cell_type": "code",
   "execution_count": 62,
   "id": "59a451d3-0b94-4e03-9455-558cf2ed4558",
   "metadata": {},
   "outputs": [
    {
     "name": "stdout",
     "output_type": "stream",
     "text": [
      "0.9961489940906978\n"
     ]
    }
   ],
   "source": [
    "rec = recall_score(Y_test,y_bin_knn_pred)\n",
    "print(rec)"
   ]
  },
  {
   "cell_type": "code",
   "execution_count": 63,
   "id": "93e58cf9-f8e9-4752-baa7-61ffafa7f4c7",
   "metadata": {},
   "outputs": [
    {
     "name": "stdout",
     "output_type": "stream",
     "text": [
      "0.8383906119027661\n"
     ]
    }
   ],
   "source": [
    "prec = precision_score(Y_test,y_bin_knn_pred)\n",
    "print(prec)"
   ]
  },
  {
   "cell_type": "code",
   "execution_count": 64,
   "id": "c5cfb020-e04d-4813-9522-7824eea315ac",
   "metadata": {},
   "outputs": [
    {
     "name": "stdout",
     "output_type": "stream",
     "text": [
      "0.9104867095521302\n"
     ]
    }
   ],
   "source": [
    "print(f1_score(Y_test, y_bin_knn_pred))"
   ]
  },
  {
   "cell_type": "code",
   "execution_count": 65,
   "id": "79cfabdd-6f0a-4dea-9a46-63000363fd90",
   "metadata": {},
   "outputs": [],
   "source": [
    "ridge = Ridge(alpha=0.5).fit(X_train, Y_train)"
   ]
  },
  {
   "cell_type": "code",
   "execution_count": 66,
   "id": "7aded2e6-04cd-48be-b468-2fe22c7fa807",
   "metadata": {},
   "outputs": [
    {
     "data": {
      "text/plain": [
       "{'alpha': 0.9}"
      ]
     },
     "execution_count": 66,
     "metadata": {},
     "output_type": "execute_result"
    }
   ],
   "source": [
    "parameters = {'alpha': np.arange(0, 1, 0.1)}\n",
    "ridge_optimal = GridSearchCV(Ridge(), parameters).fit(X_train, Y_train)\n",
    "ridge_optimal.best_params_"
   ]
  },
  {
   "cell_type": "code",
   "execution_count": 67,
   "id": "2d6309cc-8e2b-4e40-b803-0af9687a1467",
   "metadata": {},
   "outputs": [
    {
     "name": "stdout",
     "output_type": "stream",
     "text": [
      "              precision    recall  f1-score   support\n",
      "\n",
      "         0.0       0.86      0.83      0.84     17895\n",
      "         1.0       0.83      0.86      0.85     17571\n",
      "\n",
      "    accuracy                           0.85     35466\n",
      "   macro avg       0.85      0.85      0.85     35466\n",
      "weighted avg       0.85      0.85      0.85     35466\n",
      "\n"
     ]
    }
   ],
   "source": [
    "from sklearn.naive_bayes import GaussianNB\n",
    "\n",
    "gnb = GaussianNB()\n",
    "gnb.fit(X_train, Y_train)\n",
    "Y_pred_NB = gnb.predict(X_test)\n",
    "print(classification_report(Y_test, Y_pred_NB))"
   ]
  },
  {
   "cell_type": "code",
   "execution_count": 68,
   "id": "64910e71-995b-4f84-84ea-1d11fb48cf69",
   "metadata": {},
   "outputs": [
    {
     "data": {
      "text/plain": [
       "0.8451192691591948"
      ]
     },
     "execution_count": 68,
     "metadata": {},
     "output_type": "execute_result"
    }
   ],
   "source": [
    "accuracy_score(Y_test, Y_pred_NB)"
   ]
  },
  {
   "cell_type": "code",
   "execution_count": 69,
   "id": "9610caa2-73bb-4f9a-ac6f-625c8303c1db",
   "metadata": {},
   "outputs": [
    {
     "data": {
      "image/png": "[encoded data removed]",
      "text/plain": [
       "<Figure size 600x600 with 1 Axes>"
      ]
     },
     "metadata": {},
     "output_type": "display_data"
    }
   ],
   "source": [
    "%matplotlib inline\n",
    "\n",
    "y_scores = gnb.predict_proba(X_test)\n",
    "# Вычислить ROC кривую\n",
    "fpr, tpr, thresholds = roc_curve(Y_test, y_scores[:,1])\n",
    "\n",
    "# Построить ROC кривую\n",
    "fig = plt.figure(figsize=(6, 6))\n",
    "# Постройте диагональную линию 50%\n",
    "plt.plot([0, 1], [0, 1], 'k--')\n",
    "# Построить FPR and TPR, которые достигаются нашей моделью\n",
    "plt.plot(fpr, tpr)\n",
    "plt.xlabel('False Positive Rate')\n",
    "plt.ylabel('True Positive Rate')\n",
    "plt.title('ROC Curve')\n",
    "plt.show()"
   ]
  },
  {
   "cell_type": "code",
   "execution_count": 70,
   "id": "ce7afc93-fecc-46ba-bb95-4406da27e689",
   "metadata": {},
   "outputs": [
    {
     "name": "stdout",
     "output_type": "stream",
     "text": [
      "0.9032446796423703\n"
     ]
    }
   ],
   "source": [
    "auc = roc_auc_score(Y_test,y_scores[:,1])\n",
    "print(auc)"
   ]
  },
  {
   "cell_type": "code",
   "execution_count": 71,
   "id": "dcefc64c-fe3a-447b-af37-5d6497baa9af",
   "metadata": {},
   "outputs": [
    {
     "name": "stdout",
     "output_type": "stream",
     "text": [
      "0.8580254041570439\n"
     ]
    }
   ],
   "source": [
    "rec = recall_score(Y_test,Y_pred_NB)\n",
    "print(rec)"
   ]
  },
  {
   "cell_type": "code",
   "execution_count": 72,
   "id": "4852ef98-d27b-42e2-a36f-ee03372ee5b4",
   "metadata": {},
   "outputs": [
    {
     "name": "stdout",
     "output_type": "stream",
     "text": [
      "0.8304554344789047\n"
     ]
    }
   ],
   "source": [
    "prec = precision_score(Y_test,Y_pred_NB)\n",
    "print(prec)"
   ]
  },
  {
   "cell_type": "code",
   "execution_count": 73,
   "id": "b5de1215-2198-419d-b4bf-555f99797c47",
   "metadata": {},
   "outputs": [
    {
     "name": "stdout",
     "output_type": "stream",
     "text": [
      "0.8440153343745563\n"
     ]
    }
   ],
   "source": [
    "print(f1_score(Y_test, Y_pred_NB))"
   ]
  },
  {
   "cell_type": "code",
   "execution_count": 74,
   "id": "f6e62109-e69c-4c54-9150-3d8d9a61430d",
   "metadata": {},
   "outputs": [
    {
     "name": "stdout",
     "output_type": "stream",
     "text": [
      "              precision    recall  f1-score   support\n",
      "\n",
      "         0.0       0.90      0.84      0.87     17895\n",
      "         1.0       0.85      0.91      0.88     17571\n",
      "\n",
      "    accuracy                           0.87     35466\n",
      "   macro avg       0.88      0.87      0.87     35466\n",
      "weighted avg       0.88      0.87      0.87     35466\n",
      "\n"
     ]
    }
   ],
   "source": [
    "from sklearn.linear_model import LogisticRegression\n",
    "\n",
    "\n",
    "log = LogisticRegression(random_state=42).fit(X_train, Y_train)\n",
    "Y_pred_log = log.predict(X_test)\n",
    "log.score(X_train, Y_train)\n",
    "print(classification_report(Y_test, Y_pred_log))"
   ]
  },
  {
   "cell_type": "code",
   "execution_count": 75,
   "id": "6749788c-dac9-405e-a711-57ab4ec1b901",
   "metadata": {},
   "outputs": [
    {
     "data": {
      "text/plain": [
       "0.8734562679749619"
      ]
     },
     "execution_count": 75,
     "metadata": {},
     "output_type": "execute_result"
    }
   ],
   "source": [
    "accuracy_score(Y_test, Y_pred_log)"
   ]
  },
  {
   "cell_type": "code",
   "execution_count": 76,
   "id": "1a60400b-a7c1-45f3-9a80-ba6c7a1baff4",
   "metadata": {},
   "outputs": [
    {
     "data": {
      "image/png": "[encoded data removed]",
      "text/plain": [
       "<Figure size 600x600 with 1 Axes>"
      ]
     },
     "metadata": {},
     "output_type": "display_data"
    }
   ],
   "source": [
    "%matplotlib inline\n",
    "\n",
    "y_scores = log.predict_proba(X_test)\n",
    "# Вычислить ROC кривую\n",
    "fpr, tpr, thresholds = roc_curve(Y_test, y_scores[:,1])\n",
    "\n",
    "# Построить ROC кривую\n",
    "fig = plt.figure(figsize=(6, 6))\n",
    "# Постройте диагональную линию 50%\n",
    "plt.plot([0, 1], [0, 1], 'k--')\n",
    "# Построить FPR and TPR, которые достигаются нашей моделью\n",
    "plt.plot(fpr, tpr)\n",
    "plt.xlabel('False Positive Rate')\n",
    "plt.ylabel('True Positive Rate')\n",
    "plt.title('ROC Curve')\n",
    "plt.show()"
   ]
  },
  {
   "cell_type": "code",
   "execution_count": 77,
   "id": "db0ddd1d-d8c5-4f7f-83c6-17c375d8eae9",
   "metadata": {},
   "outputs": [
    {
     "name": "stdout",
     "output_type": "stream",
     "text": [
      "0.9118074883000926\n"
     ]
    }
   ],
   "source": [
    "auc = roc_auc_score(Y_test,y_scores[:,1])\n",
    "print(auc)"
   ]
  },
  {
   "cell_type": "code",
   "execution_count": 78,
   "id": "c2c5d685-ffa9-43f6-b4a9-7be7269021bd",
   "metadata": {},
   "outputs": [
    {
     "name": "stdout",
     "output_type": "stream",
     "text": [
      "0.9016236295009287\n"
     ]
    }
   ],
   "source": [
    "rec = recall_score(Y_test,Y_pred_log)\n",
    "print(rec)"
   ]
  },
  {
   "cell_type": "code",
   "execution_count": 79,
   "id": "1a9de8c0-a9ab-43f9-83ac-41cb85434239",
   "metadata": {},
   "outputs": [
    {
     "name": "stdout",
     "output_type": "stream",
     "text": [
      "0.8409611623358481\n"
     ]
    }
   ],
   "source": [
    "prec = precision_score(Y_test,Y_pred_log)\n",
    "print(prec)"
   ]
  },
  {
   "cell_type": "code",
   "execution_count": 80,
   "id": "bed5b8c9-bf3f-4950-9836-4d09e569eed3",
   "metadata": {},
   "outputs": [
    {
     "name": "stdout",
     "output_type": "stream",
     "text": [
      "              precision    recall  f1-score   support\n",
      "\n",
      "         0.0       1.00      0.81      0.89     17895\n",
      "         1.0       0.84      1.00      0.91     17571\n",
      "\n",
      "    accuracy                           0.90     35466\n",
      "   macro avg       0.92      0.90      0.90     35466\n",
      "weighted avg       0.92      0.90      0.90     35466\n",
      "\n"
     ]
    }
   ],
   "source": [
    "from sklearn import svm\n",
    "\n",
    "clf = svm.SVC(probability=True)\n",
    "clf.fit(X_train, Y_train)\n",
    "\n",
    "Y_pred_sv = clf.predict(X_test)\n",
    "print(classification_report(Y_test, Y_pred_sv))"
   ]
  },
  {
   "cell_type": "code",
   "execution_count": 81,
   "id": "8cb1b645-f1c1-4716-8061-f591617e2924",
   "metadata": {},
   "outputs": [
    {
     "name": "stdout",
     "output_type": "stream",
     "text": [
      "0.8702365118834211\n"
     ]
    }
   ],
   "source": [
    "print(f1_score(Y_test, Y_pred_log))"
   ]
  },
  {
   "cell_type": "code",
   "execution_count": 82,
   "id": "dc687bbe-a698-4f6d-9ed0-5af4ab2f659b",
   "metadata": {},
   "outputs": [
    {
     "data": {
      "text/plain": [
       "0.902667343371116"
      ]
     },
     "execution_count": 82,
     "metadata": {},
     "output_type": "execute_result"
    }
   ],
   "source": [
    "accuracy_score(Y_test, Y_pred_sv)"
   ]
  },
  {
   "cell_type": "code",
   "execution_count": 83,
   "id": "5aa3ad64-a1d7-4233-9759-3a744fa2df24",
   "metadata": {},
   "outputs": [
    {
     "data": {
      "image/png": "[encoded data removed]",
      "text/plain": [
       "<Figure size 600x600 with 1 Axes>"
      ]
     },
     "metadata": {},
     "output_type": "display_data"
    }
   ],
   "source": [
    "%matplotlib inline\n",
    "\n",
    "y_scores = clf.predict_proba(X_test)\n",
    "# Вычислить ROC кривую\n",
    "fpr, tpr, thresholds = roc_curve(Y_test, y_scores[:,1])\n",
    "\n",
    "# Построить ROC кривую\n",
    "fig = plt.figure(figsize=(6, 6))\n",
    "# Постройте диагональную линию 50%\n",
    "plt.plot([0, 1], [0, 1], 'k--')\n",
    "# Построить FPR and TPR, которые достигаются нашей моделью\n",
    "plt.plot(fpr, tpr)\n",
    "plt.xlabel('False Positive Rate')\n",
    "plt.ylabel('True Positive Rate')\n",
    "plt.title('ROC Curve')\n",
    "plt.show()"
   ]
  },
  {
   "cell_type": "code",
   "execution_count": 84,
   "id": "a9eb3d92-0045-4366-a239-9fc182f61cf6",
   "metadata": {},
   "outputs": [
    {
     "name": "stdout",
     "output_type": "stream",
     "text": [
      "0.9293276856444908\n"
     ]
    }
   ],
   "source": [
    "auc = roc_auc_score(Y_test,y_scores[:,1])\n",
    "print(auc)"
   ]
  },
  {
   "cell_type": "code",
   "execution_count": 85,
   "id": "203ee469-60a3-4a41-b473-68e10d5c3d0f",
   "metadata": {},
   "outputs": [
    {
     "name": "stdout",
     "output_type": "stream",
     "text": [
      "0.997245748123666\n"
     ]
    }
   ],
   "source": [
    "rec = recall_score(Y_test,Y_pred_sv)\n",
    "print(rec)"
   ]
  },
  {
   "cell_type": "code",
   "execution_count": 86,
   "id": "bb20208e-0f4f-4cd6-bee7-77509acc68fd",
   "metadata": {},
   "outputs": [
    {
     "name": "stdout",
     "output_type": "stream",
     "text": [
      "0.8093322157027103\n"
     ]
    }
   ],
   "source": [
    "prec = precision_score(Y_test,Y_pred_sv)\n",
    "print(prec)"
   ]
  },
  {
   "cell_type": "code",
   "execution_count": 87,
   "id": "7ddd891d-e3e3-4869-9139-ad7496477b25",
   "metadata": {},
   "outputs": [
    {
     "name": "stdout",
     "output_type": "stream",
     "text": [
      "0.8935159479301622\n"
     ]
    }
   ],
   "source": [
    "print(f1_score(Y_test, Y_pred_sv))"
   ]
  },
  {
   "cell_type": "code",
   "execution_count": 88,
   "id": "9f6df827-5058-448d-a1fd-6149d3f0d0de",
   "metadata": {},
   "outputs": [],
   "source": [
    "classifiers = {\n",
    "    'SVC': clf,\n",
    "    'KNN classifier': knn,\n",
    "    'Logistic Regression': log,\n",
    "    'Gaussian NB': gnb,\n",
    "}\n",
    "list = [Y_pred_sv, y_bin_knn_pred, Y_pred_log, Y_pred_NB]"
   ]
  },
  {
   "cell_type": "code",
   "execution_count": 89,
   "id": "64bdcdff-f669-45f4-895b-0d8d2fc735f4",
   "metadata": {},
   "outputs": [
    {
     "name": "stdout",
     "output_type": "stream",
     "text": [
      "Accuracy (train) for SVC: 90.3% \n",
      "              precision    recall  f1-score   support\n",
      "\n",
      "         0.0       1.00      0.81      0.89     17895\n",
      "         1.0       0.84      1.00      0.91     17571\n",
      "\n",
      "    accuracy                           0.90     35466\n",
      "   macro avg       0.92      0.90      0.90     35466\n",
      "weighted avg       0.92      0.90      0.90     35466\n",
      "\n",
      "Accuracy (train) for KNN classifier: 91.7% \n",
      "              precision    recall  f1-score   support\n",
      "\n",
      "         0.0       1.00      0.84      0.91     17895\n",
      "         1.0       0.86      1.00      0.92     17571\n",
      "\n",
      "    accuracy                           0.92     35466\n",
      "   macro avg       0.93      0.92      0.92     35466\n",
      "weighted avg       0.93      0.92      0.92     35466\n",
      "\n",
      "Accuracy (train) for Logistic Regression: 87.3% \n",
      "              precision    recall  f1-score   support\n",
      "\n",
      "         0.0       0.90      0.84      0.87     17895\n",
      "         1.0       0.85      0.91      0.88     17571\n",
      "\n",
      "    accuracy                           0.87     35466\n",
      "   macro avg       0.88      0.87      0.87     35466\n",
      "weighted avg       0.88      0.87      0.87     35466\n",
      "\n",
      "Accuracy (train) for Gaussian NB: 84.5% \n",
      "              precision    recall  f1-score   support\n",
      "\n",
      "         0.0       0.86      0.83      0.84     17895\n",
      "         1.0       0.83      0.86      0.85     17571\n",
      "\n",
      "    accuracy                           0.85     35466\n",
      "   macro avg       0.85      0.85      0.85     35466\n",
      "weighted avg       0.85      0.85      0.85     35466\n",
      "\n"
     ]
    }
   ],
   "source": [
    "n_classifiers = len(classifiers)\n",
    "\n",
    "for index, (name, classifier) in enumerate(classifiers.items()):\n",
    "    accuracy = accuracy_score(Y_test, list[index])\n",
    "    print(\"Accuracy (train) for %s: %0.1f%% \" % (name, accuracy * 100))\n",
    "    print(classification_report(Y_test,list[index]))"
   ]
  },
  {
   "cell_type": "code",
   "execution_count": null,
   "id": "ca8da9be-43ad-4c86-90ca-6606f843ad93",
   "metadata": {},
   "outputs": [],
   "source": []
  },
  {
   "cell_type": "code",
   "execution_count": null,
   "id": "4f876f33-dc6d-4366-a1b2-ea9c28ca2513",
   "metadata": {},
   "outputs": [],
   "source": []
  },
  {
   "cell_type": "code",
   "execution_count": null,
   "id": "fe79f71f-ba47-4736-b44e-e0e8da3af140",
   "metadata": {},
   "outputs": [],
   "source": []
  },
  {
   "cell_type": "code",
   "execution_count": null,
   "id": "2799cf0e-28bf-4b9a-ade6-6b2c37f29c91",
   "metadata": {},
   "outputs": [],
   "source": []
  }
 ],
 "metadata": {
  "kernelspec": {
   "display_name": "Python 3 (ipykernel)",
   "language": "python",
   "name": "python3"
  },
  "language_info": {
   "codemirror_mode": {
    "name": "ipython",
    "version": 3
   },
   "file_extension": ".py",
   "mimetype": "text/x-python",
   "name": "python",
   "nbconvert_exporter": "python",
   "pygments_lexer": "ipython3",
   "version": "3.10.11"
  }
 },
 "nbformat": 4,
 "nbformat_minor": 5
}
